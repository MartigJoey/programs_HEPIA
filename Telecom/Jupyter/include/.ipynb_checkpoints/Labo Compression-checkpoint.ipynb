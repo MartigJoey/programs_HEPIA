{
 "cells": [
  {
   "cell_type": "markdown",
   "metadata": {},
   "source": [
    "<h1>Bases des télécommunications 1</h1>\n",
    "\n",
    "**__Introduction__**\n",
    "\n",
    "Le but de ce laboratoire est de mettre en pratique les concepts vus en classe de Bases des\n",
    "Télécommunications. On travaillera ainsi sur la compression d’un fichier texte\n",
    "\n",
    "- Le rendu du **jupyter notebook** doit se faire sur __cyberlearn__ avec comme nom \"prenom_nom_groupe\" \n",
    "- Le fichier texte utilisé ici doit être encodé en UTF-8 (sans BOM), vous pouvez le vérifier avec Notepad++ par exemple.\n",
    "- Exemple de code python 3 pour ouvrir en lecture un fichier texte en UTF-8 : __*open(INPUT, \"r\", encoding=\"UTF-8\")*__\n",
    "\n",
    "<h2>I. Tris alphabétique + fréquentiel</h2>\n",
    "\n",
    "a)  Réaliser  ci-dessous un programme qui lit un fichier texte (input.txt), puis en écrit un nouveau (out1.txt)\n",
    "en plaçant tous les caractères dans l’ordre alphabétique (ordre de leur valeur\n",
    "Ascii).\n",
    "Exemple : **abb@acA → @Aaabbc** (La fonction sorted de Python 3 pourrait vous aider, tout comme l’utilisation\n",
    "de dictionnaires (voir tuto_python.ipynb))\n",
    "\n"
   ]
  },
  {
   "cell_type": "code",
   "execution_count": 5,
   "metadata": {},
   "outputs": [
    {
     "data": {
      "text/plain": [
       "404"
      ]
     },
     "execution_count": 5,
     "metadata": {},
     "output_type": "execute_result"
    }
   ],
   "source": [
    "# exercice a.\n",
    "import math\n",
    "\n",
    "input_file = open(\"input.txt\", \"r\", encoding=\"UTF-8\")\n",
    "out_file = open(\"out1.txt\", \"w+\")\n",
    "\n",
    "file_text = input_file.read()\n",
    "out_text = \"\"\n",
    "ascii_text = []\n",
    "\n",
    "for character in file_text:\n",
    "    ascii_text.append(ord(character))\n",
    "\n",
    "ascii_text.sort()\n",
    "\n",
    "for acii_character in ascii_text:\n",
    "    out_text += chr(acii_character)\n",
    "\n",
    "out_file.write(out_text)"
   ]
  },
  {
   "cell_type": "markdown",
   "metadata": {},
   "source": [
    "b) Ajouter à votre premier programme une écriture d’un nouveau fichier texte\n",
    "(out2.txt), mais cette fois trié dans l’ordre des fréquences d’apparition.\n",
    "**Exemple : abb@acA → aabb@Ac**\n",
    "Votre programme doit afficher dans la console, la fréquence d’apparition pour\n",
    "chaque caractère. (Ainsi que la valeur ascii du caractère)\n",
    "\n",
    "Exemple : \n",
    "\n",
    "<table>\n",
    "<tr>\n",
    "    <td>0x61</td>\n",
    "    <td>0.285</td>\n",
    "</tr>\n",
    "<tr>\n",
    "    <td>0x62</td>\n",
    "    <td>0.285</td>\n",
    "</tr>\n",
    "<tr>\n",
    "    <td>0x41</td>\n",
    "    <td>0.142</td>\n",
    "</tr>\n",
    "</table>\n",
    "\n"
   ]
  },
  {
   "cell_type": "code",
   "execution_count": 7,
   "metadata": {},
   "outputs": [
    {
     "name": "stdout",
     "output_type": "stream",
     "text": [
      "0x32 0.1509900990\n",
      "0x101 0.1212871287\n",
      "0x116 0.0841584158\n",
      "0x117 0.0618811881\n",
      "0x115 0.0594059406\n",
      "0x97 0.0569306931\n",
      "0x110 0.0569306931\n",
      "0x114 0.0495049505\n",
      "0x105 0.0470297030\n",
      "0x111 0.0420792079\n",
      "0x108 0.0371287129\n",
      "0x100 0.0297029703\n",
      "0x109 0.0297029703\n",
      "0x112 0.0222772277\n",
      "0x99 0.0173267327\n",
      "0x46 0.0173267327\n",
      "0x39 0.0123762376\n",
      "0x120 0.0123762376\n",
      "0x233 0.0123762376\n",
      "0x118 0.0099009901\n",
      "0x10 0.0099009901\n",
      "0x76 0.0074257426\n",
      "0x73 0.0074257426\n",
      "0x113 0.0074257426\n",
      "0x68 0.0074257426\n",
      "0x98 0.0074257426\n",
      "0x103 0.0049504950\n",
      "0x67 0.0049504950\n",
      "0x232 0.0024752475\n",
      "0x102 0.0024752475\n",
      "0x231 0.0024752475\n",
      "0x224 0.0024752475\n",
      "0x44 0.0024752475\n",
      "Entropie du fichier H = 4.27256\n",
      "Quantité de décision D = 5.04439\n",
      "Redondance R = 0.77183\n",
      "Taux de compression maximum du fichier = 0.15301\n"
     ]
    },
    {
     "data": {
      "text/plain": [
       "404"
      ]
     },
     "execution_count": 7,
     "metadata": {},
     "output_type": "execute_result"
    }
   ],
   "source": [
    "# exercice b.\n",
    "import math\n",
    "\n",
    "input_file = open(\"input.txt\", \"r\", encoding=\"UTF-8\")\n",
    "out_file1 = open(\"out1.txt\", \"w+\")\n",
    "out_file2 = open(\"out2.txt\", \"w+\")\n",
    "\n",
    "# Exercice a\n",
    "file_text = input_file.read()\n",
    "out_text1 = \"\"\n",
    "ascii_text = []\n",
    "\n",
    "for character in file_text:\n",
    "    ascii_text.append(ord(character))\n",
    "\n",
    "ascii_text.sort()\n",
    "\n",
    "for acii_character in ascii_text:\n",
    "    out_text1 += chr(acii_character)\n",
    "\n",
    "out_file1.write(out_text1)\n",
    "\n",
    "char_dictionnary = {}\n",
    "sum_char = len(file_text)\n",
    "out_text2 = \"\"\n",
    "\n",
    "for character in file_text:\n",
    "    if character in char_dictionnary:\n",
    "        char_dictionnary[character] += 1\n",
    "    else:\n",
    "        char_dictionnary[character] = 1\n",
    "\n",
    "char_dictionnary = dict(sorted(char_dictionnary.items(), key=lambda item: item[1], reverse=True))\n",
    "\n",
    "for key in char_dictionnary:\n",
    "    print(\"0x{} {:.10f}\".format(ord(key), (char_dictionnary[key]) / sum_char))\n",
    "\n",
    "\n",
    "for key in char_dictionnary:\n",
    "    out_text2 += ''.join([char*char_dictionnary[key] for char in key]) \n",
    "\n",
    "#Calculer entropie H\n",
    "H = 0\n",
    "for key in char_dictionnary:\n",
    "    prob = char_dictionnary[key] / sum_char\n",
    "    H += prob * math.log2(prob)\n",
    "    \n",
    "H = H * -1\n",
    "print(\"Entropie du fichier H = {:.5f}\".format(H))\n",
    "\n",
    "#La quantité de décision D?\n",
    "D = math.log2(len(char_dictionnary))\n",
    "print(\"Quantité de décision D = {:.5f}\".format(D))\n",
    "\n",
    "#La redondance R\n",
    "R = D-H\n",
    "print(\"Redondance R = {:.5f}\".format(R))\n",
    "\n",
    "#Taux de compression maximum du fichier\n",
    "L = 1 - H / D\n",
    "\n",
    "print(\"Taux de compression maximum du fichier = {:.5f}\".format(L))    \n",
    "\n",
    "out_file2.write(out_text2)\n"
   ]
  },
  {
   "cell_type": "markdown",
   "metadata": {},
   "source": [
    "c) Améliorer votre programme pour qu’il calcule l’entropie, la quantité de décision,\n",
    "la redondance et le taux de compression maximal du fichier. Le tout est à afficher\n",
    "dans la console.\n",
    "\n",
    "**N’oubliez pas que l’espace, la ponctuation et le retour chariot sont aussi considéré comme des\n",
    "caractères. Il est donc juste qu’ils soient pris en compte par votre programme.**\n"
   ]
  },
  {
   "cell_type": "markdown",
   "metadata": {},
   "source": [
    "<h2>II. Code de Huffman</h2>\n",
    "\n",
    "On veut construire un code de Huffman pour compresser notre fichier texte. On part du principe\n",
    "que le code n’a pas besoin d’être transmis dans le fichier compressé. \n"
   ]
  },
  {
   "cell_type": "markdown",
   "metadata": {},
   "source": [
    "a) À partir de l’exercice précédent, écrire un code générant un codage de Huffman pour\n",
    "les caractères de ce fichier. Votre programme doit afficher la valeur ASCII des\n",
    "charactères et leur code binaire généré par codage de Huffman."
   ]
  },
  {
   "cell_type": "markdown",
   "metadata": {},
   "source": [
    "Exemple:\n",
    "\n",
    "<table>\n",
    "<tr>\n",
    "    <td>0x61</td>\n",
    "    <td>11</td>\n",
    "</tr>\n",
    "<tr>\n",
    "    <td>0x62</td>\n",
    "    <td>10</td>\n",
    "</tr>\n",
    "<tr>\n",
    "    <td>0x40</td>\n",
    "    <td>00</td>\n",
    "</tr>\n",
    "<tr>\n",
    "    <td>0x63</td>\n",
    "    <td>011</td>\n",
    "</tr>\n",
    "<tr>\n",
    "    <td>0x41</td>\n",
    "    <td>010</td>\n",
    "</tr>\n",
    "</table>"
   ]
  },
  {
   "cell_type": "code",
   "execution_count": 3,
   "metadata": {
    "scrolled": true
   },
   "outputs": [
    {
     "name": "stdout",
     "output_type": "stream",
     "text": [
      "0x32 110\n",
      "0x101 100\n",
      "0x116 1111\n",
      "0x117 1010\n",
      "0x115 0110\n",
      "0x97 0100\n",
      "0x110 0101\n",
      "0x114 0010\n",
      "0x105 0000\n",
      "0x111 11101\n",
      "0x108 10111\n",
      "0x100 00111\n",
      "0x109 01110\n",
      "0x112 00010\n",
      "0x99 101100\n",
      "0x46 101101\n",
      "0x39 000110\n",
      "0x120 000111\n",
      "0x233 001100\n",
      "0x118 1110001\n",
      "0x10 1110010\n",
      "0x76 0011011\n",
      "0x73 0111100\n",
      "0x113 0111101\n",
      "0x68 0111110\n",
      "0x98 0111111\n",
      "0x103 11100001\n",
      "0x67 11100110\n",
      "0x232 111001110\n",
      "0x102 111001111\n",
      "0x231 00110100\n",
      "0x224 00110101\n",
      "0x44 11100000\n"
     ]
    }
   ],
   "source": [
    "#exercice a.\n",
    "import math\n",
    "\n",
    "input_file = open(\"input.txt\", \"r\", encoding=\"UTF-8\")\n",
    "\n",
    "file_text = input_file.read()\n",
    "char_dictionnary = {}\n",
    "sum_char = len(file_text)\n",
    "output_text = \"\"\n",
    "\n",
    "for character in file_text:\n",
    "    if character in char_dictionnary:\n",
    "        char_dictionnary[character] += 1\n",
    "    else:\n",
    "        char_dictionnary[character] = 1\n",
    "\n",
    "char_dictionnary = dict(sorted(char_dictionnary.items(), key=lambda item: item[1], reverse=True))\n",
    "\n",
    "huffman_done = []\n",
    "char_dict_cpy = char_dictionnary.copy()\n",
    "dict_huffman = {}\n",
    "count_char = 0\n",
    "\n",
    "def get_min_value_key(dict_huffman):\n",
    "    min_value = 255\n",
    "    min_key = ''\n",
    "    for key in dict_huffman:\n",
    "        if dict_huffman[key] < min_value and key not in huffman_done:\n",
    "            min_value = dict_huffman[key]\n",
    "            min_key = key\n",
    "\n",
    "    huffman_done.append(min_key)\n",
    "    return min_key\n",
    "\n",
    "while count_char < len(char_dictionnary)-1:\n",
    "    # Prends les deux clés les plus petites\n",
    "    min_key_0 = get_min_value_key(char_dict_cpy)\n",
    "    min_key_1 = get_min_value_key(char_dict_cpy)\n",
    "\n",
    "    for char_key_0 in min_key_0:\n",
    "        if char_key_0 in dict_huffman:\n",
    "            dict_huffman[char_key_0] = \"0\" + dict_huffman[char_key_0]\n",
    "        else:\n",
    "            dict_huffman[char_key_0] = \"0\"\n",
    "    \n",
    "    for char_key_1 in min_key_1:\n",
    "        if char_key_1 in dict_huffman:\n",
    "            dict_huffman[char_key_1] = \"1\" + dict_huffman[char_key_1]\n",
    "        else:\n",
    "            dict_huffman[char_key_1] = \"1\"\n",
    "\n",
    "    count_char += 1\n",
    "    char_dict_cpy[min_key_0+min_key_1] = char_dict_cpy[min_key_0] + char_dict_cpy[min_key_1]\n",
    "\n",
    "## Affichage\n",
    "for key in char_dictionnary:\n",
    "    print(\"0x{} {}\".format(ord(key), dict_huffman[key]))\n",
    "\n",
    "\n",
    "input_file.close()"
   ]
  },
  {
   "cell_type": "markdown",
   "metadata": {},
   "source": [
    "b) Afficher le taux moyen de bits par caractère de votre code, dans la console."
   ]
  },
  {
   "cell_type": "code",
   "execution_count": 4,
   "metadata": {},
   "outputs": [
    {
     "name": "stdout",
     "output_type": "stream",
     "text": [
      "4.297029702970297\n"
     ]
    }
   ],
   "source": [
    "import math\n",
    "\n",
    "input_file = open(\"input.txt\", \"r\", encoding=\"UTF-8\")\n",
    "\n",
    "file_text = input_file.read()\n",
    "char_dictionnary = {}\n",
    "sum_char = len(file_text)\n",
    "output_text = \"\"\n",
    "\n",
    "for character in file_text:\n",
    "    if character in char_dictionnary:\n",
    "        char_dictionnary[character] += 1\n",
    "    else:\n",
    "        char_dictionnary[character] = 1\n",
    "\n",
    "char_dictionnary = dict(sorted(char_dictionnary.items(), key=lambda item: item[1], reverse=True))\n",
    "\n",
    "huffman_done = []\n",
    "char_dict_cpy = char_dictionnary.copy()\n",
    "dict_huffman = {}\n",
    "count_char = 0\n",
    "\n",
    "def get_min_value_key(dict_huffman):\n",
    "    min_value = 255\n",
    "    min_key = ''\n",
    "    for key in dict_huffman:\n",
    "        if dict_huffman[key] < min_value and key not in huffman_done:\n",
    "            min_value = dict_huffman[key]\n",
    "            min_key = key\n",
    "\n",
    "    huffman_done.append(min_key)\n",
    "    return min_key\n",
    "\n",
    "while count_char < len(char_dictionnary)-1:\n",
    "    # Prends les deux clés les plus petites\n",
    "    min_key_0 = get_min_value_key(char_dict_cpy)\n",
    "    min_key_1 = get_min_value_key(char_dict_cpy)\n",
    "\n",
    "    for char_key_0 in min_key_0:\n",
    "        if char_key_0 in dict_huffman:\n",
    "            dict_huffman[char_key_0] = \"0\" + dict_huffman[char_key_0]\n",
    "        else:\n",
    "            dict_huffman[char_key_0] = \"0\"\n",
    "    \n",
    "    for char_key_1 in min_key_1:\n",
    "        if char_key_1 in dict_huffman:\n",
    "            dict_huffman[char_key_1] = \"1\" + dict_huffman[char_key_1]\n",
    "        else:\n",
    "            dict_huffman[char_key_1] = \"1\"\n",
    "\n",
    "    count_char += 1\n",
    "    char_dict_cpy[min_key_0+min_key_1] = char_dict_cpy[min_key_0] + char_dict_cpy[min_key_1]\n",
    "\n",
    "## Affichage\n",
    "sum_bits = 0\n",
    "for key in char_dictionnary:\n",
    "    sum_bits += len(dict_huffman[key]) * char_dictionnary[key]\n",
    "\n",
    "print(\"{}\".format(sum_bits / sum_char))\n",
    "\n",
    "\n",
    "input_file.close()"
   ]
  },
  {
   "cell_type": "markdown",
   "metadata": {},
   "source": [
    " c) Que pouvez-vous en déduire par rapport à l’entropie du point (I.c), en une phrase ?\n",
    " \n",
    "Le taux moyen de bits est plus élevé que l'entropie. Plus le taux se rapproche de l'entropie, meilleur est l'algorithme.\n"
   ]
  },
  {
   "cell_type": "markdown",
   "metadata": {},
   "source": [
    "**TODO**"
   ]
  },
  {
   "cell_type": "markdown",
   "metadata": {},
   "source": [
    "d) Compresser le fichier texte d’input dans un nouveau fichier binaire en utilisant votre\n",
    "code. Si votre message codé n’est pas un multiple de 8, rajouter des bits 0 à la fin. Le\n",
    "fichier compressé doit avoir une taille sur disque significativement plus petite que\n",
    "celui de base."
   ]
  },
  {
   "cell_type": "code",
   "execution_count": null,
   "metadata": {},
   "outputs": [],
   "source": []
  },
  {
   "cell_type": "markdown",
   "metadata": {},
   "source": [
    "e) Que manquerait-il a ce fichier binaire pour pouvoir être décodé par n’importe qui ?\n",
    "(Pas besoin de l’implémenter pour ce labo)\n",
    "\n",
    "La talbe d'équivalence entre les valeurs en bits et en ascii."
   ]
  },
  {
   "cell_type": "markdown",
   "metadata": {},
   "source": [
    "**TODO**"
   ]
  },
  {
   "cell_type": "markdown",
   "metadata": {},
   "source": [
    "# Bonus I\n",
    "\n",
    "Coder la fonction de tri avec **DES BOUCLES ET DES LISTES**"
   ]
  },
  {
   "cell_type": "code",
   "execution_count": null,
   "metadata": {},
   "outputs": [],
   "source": [
    "\n",
    "tabOfChars=['b','a','a','f'] # transformation du fichier lu en tableau de charactères\n",
    "mySortedList= tabOfChars.copy()\n",
    "def mySortedFunc(mySortedList):#insérer vos arguments\n",
    "    return mySortedList\n"
   ]
  },
  {
   "cell_type": "code",
   "execution_count": null,
   "metadata": {},
   "outputs": [],
   "source": [
    "assert sorted(tabOfChars) == mySortedFunc(mySortedList)"
   ]
  },
  {
   "cell_type": "markdown",
   "metadata": {},
   "source": [
    "# Bonus II - Shannon-Fano\n",
    "\n",
    "On veut construire un code de Shannon-Fano pour compresser notre fichier texte. On part du\n",
    "principe que le code n’a pas besoin d’être transmis dans le fichier compressé.\n",
    "\n",
    "a) Réaliser ci-dessous un programme qui lit un fichier texte, puis génère un codage de\n",
    "Shannon-Fano pour les caractères de ce fichier. Votre programme doit afficher le code\n",
    "binaire choisi pour chaque caractère.\n",
    "\n",
    "Exemple :\n",
    "\n",
    "<table>\n",
    "<tr>\n",
    "    <td>a</td>\n",
    "    <td>0x61</td>\n",
    "    <td>11</td>\n",
    "</tr>\n",
    "<tr>\n",
    "    <td>b</td>\n",
    "    <td>0x62</td>\n",
    "    <td>10</td>\n",
    "</tr>\n",
    "<tr>\n",
    "    <td>@</td>\n",
    "    <td>0x40</td>\n",
    "    <td>00</td>\n",
    "</tr>\n",
    "<tr>\n",
    "    <td>c</td>\n",
    "    <td>0x63</td>\n",
    "    <td>011</td>\n",
    "</tr>\n",
    "<tr>\n",
    "    <td>A</td>\n",
    "    <td>0x41</td>\n",
    "    <td>010</td>\n",
    "</tr>\n",
    "</table>"
   ]
  },
  {
   "cell_type": "code",
   "execution_count": 1,
   "metadata": {},
   "outputs": [],
   "source": [
    "# exercice a.fjh"
   ]
  },
  {
   "cell_type": "markdown",
   "metadata": {},
   "source": [
    "b) Afficher le taux moyen de bits par caractère de votre code, dans la console."
   ]
  },
  {
   "cell_type": "code",
   "execution_count": null,
   "metadata": {},
   "outputs": [],
   "source": [
    "# exercice b."
   ]
  },
  {
   "cell_type": "markdown",
   "metadata": {},
   "source": [
    " c) Que pouvez-vous en déduire par rapport à l’entropie du point (I.c), en une phrase ?"
   ]
  },
  {
   "cell_type": "markdown",
   "metadata": {},
   "source": [
    "**TODO**"
   ]
  },
  {
   "cell_type": "markdown",
   "metadata": {},
   "source": [
    "d) Compresser le fichier texte d’input dans un nouveau fichier binaire en utilisant votre code. Si\n",
    "votre message codé n’est pas un multiple de 8, rajouter des 0 à la fin. Le fichier\n",
    "compressé doit avoir une taille sur disque significativement plus petite que celui de\n",
    "base"
   ]
  },
  {
   "cell_type": "code",
   "execution_count": null,
   "metadata": {},
   "outputs": [],
   "source": []
  }
 ],
 "metadata": {
  "kernelspec": {
   "display_name": "Python 3 (ipykernel)",
   "language": "python",
   "name": "python3"
  },
  "language_info": {
   "codemirror_mode": {
    "name": "ipython",
    "version": 3
   },
   "file_extension": ".py",
   "mimetype": "text/x-python",
   "name": "python",
   "nbconvert_exporter": "python",
   "pygments_lexer": "ipython3",
   "version": "3.8.10"
  }
 },
 "nbformat": 4,
 "nbformat_minor": 4
}
