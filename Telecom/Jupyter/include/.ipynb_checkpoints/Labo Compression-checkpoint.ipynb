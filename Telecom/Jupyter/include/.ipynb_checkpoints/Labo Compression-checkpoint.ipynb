{
 "cells": [
  {
   "cell_type": "markdown",
   "metadata": {},
   "source": [
    "<h1>Bases des télécommunications 1</h1>\n",
    "\n",
    "**__Introduction__**\n",
    "\n",
    "Le but de ce laboratoire est de mettre en pratique les concepts vus en classe de Bases des\n",
    "Télécommunications. On travaillera ainsi sur la compression d’un fichier texte\n",
    "\n",
    "- Le rendu du **jupyter notebook** doit se faire sur __cyberlearn__ avec comme nom \"prenom_nom_groupe\" \n",
    "- Le fichier texte utilisé ici doit être encodé en UTF-8 (sans BOM), vous pouvez le vérifier avec Notepad++ par exemple.\n",
    "- Exemple de code python 3 pour ouvrir en lecture un fichier texte en UTF-8 : __*open(INPUT, \"r\", encoding=\"UTF-8\")*__\n",
    "\n",
    "<h2>I. Tris alphabétique + fréquentiel</h2>\n",
    "\n",
    "a)  Réaliser  ci-dessous un programme qui lit un fichier texte (input.txt), puis en écrit un nouveau (out1.txt)\n",
    "en plaçant tous les caractères dans l’ordre alphabétique (ordre de leur valeur\n",
    "Ascii).\n",
    "Exemple : **abb@acA → @Aaabbc** (La fonction sorted de Python 3 pourrait vous aider, tout comme l’utilisation\n",
    "de dictionnaires (voir tuto_python.ipynb))\n",
    "\n"
   ]
  },
  {
   "cell_type": "code",
   "execution_count": 5,
   "metadata": {},
   "outputs": [
    {
     "data": {
      "text/plain": [
       "404"
      ]
     },
     "execution_count": 5,
     "metadata": {},
     "output_type": "execute_result"
    }
   ],
   "source": [
    "# exercice a.\n",
    "import math\n",
    "\n",
    "input_file = open(\"input.txt\", \"r\", encoding=\"UTF-8\")\n",
    "out_file = open(\"out1.txt\", \"w+\")\n",
    "\n",
    "file_text = input_file.read()\n",
    "out_text = \"\"\n",
    "ascii_text = []\n",
    "\n",
    "for character in file_text:\n",
    "    ascii_text.append(ord(character))\n",
    "\n",
    "ascii_text.sort()\n",
    "\n",
    "for acii_character in ascii_text:\n",
    "    out_text += chr(acii_character)\n",
    "\n",
    "out_file.write(out_text)"
   ]
  },
  {
   "cell_type": "markdown",
   "metadata": {},
   "source": [
    "b) Ajouter à votre premier programme une écriture d’un nouveau fichier texte\n",
    "(out2.txt), mais cette fois trié dans l’ordre des fréquences d’apparition.\n",
    "**Exemple : abb@acA → aabb@Ac**\n",
    "Votre programme doit afficher dans la console, la fréquence d’apparition pour\n",
    "chaque caractère. (Ainsi que la valeur ascii du caractère)\n",
    "\n",
    "Exemple : \n",
    "\n",
    "<table>\n",
    "<tr>\n",
    "    <td>0x61</td>\n",
    "    <td>0.285</td>\n",
    "</tr>\n",
    "<tr>\n",
    "    <td>0x62</td>\n",
    "    <td>0.285</td>\n",
    "</tr>\n",
    "<tr>\n",
    "    <td>0x41</td>\n",
    "    <td>0.142</td>\n",
    "</tr>\n",
    "</table>\n",
    "\n"
   ]
  },
  {
   "cell_type": "code",
   "execution_count": 1,
   "metadata": {},
   "outputs": [
    {
     "ename": "NameError",
     "evalue": "name 'file_text' is not defined",
     "output_type": "error",
     "traceback": [
      "\u001b[0;31m---------------------------------------------------------------------------\u001b[0m",
      "\u001b[0;31mNameError\u001b[0m                                 Traceback (most recent call last)",
      "\u001b[0;32m/tmp/ipykernel_16857/876719092.py\u001b[0m in \u001b[0;36m<module>\u001b[0;34m\u001b[0m\n\u001b[1;32m      1\u001b[0m \u001b[0;31m# exercice b.\u001b[0m\u001b[0;34m\u001b[0m\u001b[0;34m\u001b[0m\u001b[0;34m\u001b[0m\u001b[0m\n\u001b[1;32m      2\u001b[0m \u001b[0mchar_dictionnary\u001b[0m \u001b[0;34m=\u001b[0m \u001b[0;34m{\u001b[0m\u001b[0;34m}\u001b[0m\u001b[0;34m\u001b[0m\u001b[0;34m\u001b[0m\u001b[0m\n\u001b[0;32m----> 3\u001b[0;31m \u001b[0msum_char\u001b[0m \u001b[0;34m=\u001b[0m \u001b[0mlen\u001b[0m\u001b[0;34m(\u001b[0m\u001b[0mfile_text\u001b[0m\u001b[0;34m)\u001b[0m\u001b[0;34m\u001b[0m\u001b[0;34m\u001b[0m\u001b[0m\n\u001b[0m\u001b[1;32m      4\u001b[0m \u001b[0mout_text2\u001b[0m \u001b[0;34m=\u001b[0m \u001b[0;34m\"\"\u001b[0m\u001b[0;34m\u001b[0m\u001b[0;34m\u001b[0m\u001b[0m\n\u001b[1;32m      5\u001b[0m \u001b[0;34m\u001b[0m\u001b[0m\n",
      "\u001b[0;31mNameError\u001b[0m: name 'file_text' is not defined"
     ]
    }
   ],
   "source": [
    "# exercice b.\n",
    "import math\n",
    "\n",
    "input_file = open(\"input.txt\", \"r\", encoding=\"UTF-8\")\n",
    "out_file1 = open(\"out1.txt\", \"w+\")\n",
    "out_file2 = open(\"out2.txt\", \"w+\")\n",
    "\n",
    "# Exercice a\n",
    "file_text = input_file.read()\n",
    "out_text1 = \"\"\n",
    "ascii_text = []\n",
    "\n",
    "for character in file_text:\n",
    "    ascii_text.append(ord(character))\n",
    "\n",
    "ascii_text.sort()\n",
    "\n",
    "for acii_character in ascii_text:\n",
    "    out_text1 += chr(acii_character)\n",
    "\n",
    "out_file1.write(out_text1)\n",
    "\n",
    "char_dictionnary = {}\n",
    "sum_char = len(file_text)\n",
    "out_text2 = \"\"\n",
    "\n",
    "for character in file_text:\n",
    "    if character in char_dictionnary:\n",
    "        char_dictionnary[character] += 1\n",
    "    else:\n",
    "        char_dictionnary[character] = 1\n",
    "\n",
    "char_dictionnary = dict(sorted(char_dictionnary.items(), key=lambda item: item[1], reverse=True))\n",
    "\n",
    "for key in char_dictionnary:\n",
    "    print(\"0x{} {:.10f}\".format(ord(key), (char_dictionnary[key]) / sum_char))\n",
    "\n",
    "\n",
    "for key in char_dictionnary:\n",
    "    out_text2 += ''.join([char*char_dictionnary[key] for char in key]) \n",
    "\n",
    "out_file2.write(out_text2)\n"
   ]
  },
  {
   "cell_type": "markdown",
   "metadata": {},
   "source": [
    "c) Améliorer votre programme pour qu’il calcule l’entropie, la quantité de décision,\n",
    "la redondance et le taux de compression maximal du fichier. Le tout est à afficher\n",
    "dans la console.\n",
    "\n",
    "**N’oubliez pas que l’espace, la ponctuation et le retour chariot sont aussi considéré comme des\n",
    "caractères. Il est donc juste qu’ils soient pris en compte par votre programme.**\n"
   ]
  },
  {
   "cell_type": "markdown",
   "metadata": {},
   "source": [
    "<h2>II. Code de Huffman</h2>\n",
    "\n",
    "On veut construire un code de Huffman pour compresser notre fichier texte. On part du principe\n",
    "que le code n’a pas besoin d’être transmis dans le fichier compressé. \n"
   ]
  },
  {
   "cell_type": "markdown",
   "metadata": {},
   "source": [
    "a) À partir de l’exercice précédent, écrire un code générant un codage de Huffman pour\n",
    "les caractères de ce fichier. Votre programme doit afficher la valeur ASCII des\n",
    "charactères et leur code binaire généré par codage de Huffman."
   ]
  },
  {
   "cell_type": "markdown",
   "metadata": {},
   "source": [
    "Exemple:\n",
    "\n",
    "<table>\n",
    "<tr>\n",
    "    <td>0x61</td>\n",
    "    <td>11</td>\n",
    "</tr>\n",
    "<tr>\n",
    "    <td>0x62</td>\n",
    "    <td>10</td>\n",
    "</tr>\n",
    "<tr>\n",
    "    <td>0x40</td>\n",
    "    <td>00</td>\n",
    "</tr>\n",
    "<tr>\n",
    "    <td>0x63</td>\n",
    "    <td>011</td>\n",
    "</tr>\n",
    "<tr>\n",
    "    <td>0x41</td>\n",
    "    <td>010</td>\n",
    "</tr>\n",
    "</table>"
   ]
  },
  {
   "cell_type": "code",
   "execution_count": 1,
   "metadata": {},
   "outputs": [],
   "source": [
    "#exercice a.\n"
   ]
  },
  {
   "cell_type": "markdown",
   "metadata": {},
   "source": [
    "b) Afficher le taux moyen de bits par caractère de votre code, dans la console."
   ]
  },
  {
   "cell_type": "code",
   "execution_count": null,
   "metadata": {},
   "outputs": [],
   "source": []
  },
  {
   "cell_type": "markdown",
   "metadata": {},
   "source": [
    " c) Que pouvez-vous en déduire par rapport à l’entropie du point (I.c), en une phrase ?\n"
   ]
  },
  {
   "cell_type": "markdown",
   "metadata": {},
   "source": [
    "**TODO**"
   ]
  },
  {
   "cell_type": "markdown",
   "metadata": {},
   "source": [
    "d) Compresser le fichier texte d’input dans un nouveau fichier binaire en utilisant votre\n",
    "code. Si votre message codé n’est pas un multiple de 8, rajouter des bits 0 à la fin. Le\n",
    "fichier compressé doit avoir une taille sur disque significativement plus petite que\n",
    "celui de base."
   ]
  },
  {
   "cell_type": "code",
   "execution_count": null,
   "metadata": {},
   "outputs": [],
   "source": []
  },
  {
   "cell_type": "markdown",
   "metadata": {},
   "source": [
    "e) Que manquerait-il a ce fichier binaire pour pouvoir être décodé par n’importe qui ?\n",
    "(Pas besoin de l’implémenter pour ce labo)"
   ]
  },
  {
   "cell_type": "markdown",
   "metadata": {},
   "source": [
    "**TODO**"
   ]
  },
  {
   "cell_type": "markdown",
   "metadata": {},
   "source": [
    "# Bonus I\n",
    "\n",
    "Coder la fonction de tri avec **DES BOUCLES ET DES LISTES**"
   ]
  },
  {
   "cell_type": "code",
   "execution_count": null,
   "metadata": {},
   "outputs": [],
   "source": [
    "\n",
    "tabOfChars=['b','a','a','f'] # transformation du fichier lu en tableau de charactères\n",
    "mySortedList= tabOfChars.copy()\n",
    "def mySortedFunc(mySortedList):#insérer vos arguments\n",
    "    return mySortedList\n"
   ]
  },
  {
   "cell_type": "code",
   "execution_count": null,
   "metadata": {},
   "outputs": [],
   "source": [
    "assert sorted(tabOfChars) == mySortedFunc(mySortedList)"
   ]
  },
  {
   "cell_type": "markdown",
   "metadata": {},
   "source": [
    "# Bonus II - Shannon-Fano\n",
    "\n",
    "On veut construire un code de Shannon-Fano pour compresser notre fichier texte. On part du\n",
    "principe que le code n’a pas besoin d’être transmis dans le fichier compressé.\n",
    "\n",
    "a) Réaliser ci-dessous un programme qui lit un fichier texte, puis génère un codage de\n",
    "Shannon-Fano pour les caractères de ce fichier. Votre programme doit afficher le code\n",
    "binaire choisi pour chaque caractère.\n",
    "\n",
    "Exemple :\n",
    "\n",
    "<table>\n",
    "<tr>\n",
    "    <td>a</td>\n",
    "    <td>0x61</td>\n",
    "    <td>11</td>\n",
    "</tr>\n",
    "<tr>\n",
    "    <td>b</td>\n",
    "    <td>0x62</td>\n",
    "    <td>10</td>\n",
    "</tr>\n",
    "<tr>\n",
    "    <td>@</td>\n",
    "    <td>0x40</td>\n",
    "    <td>00</td>\n",
    "</tr>\n",
    "<tr>\n",
    "    <td>c</td>\n",
    "    <td>0x63</td>\n",
    "    <td>011</td>\n",
    "</tr>\n",
    "<tr>\n",
    "    <td>A</td>\n",
    "    <td>0x41</td>\n",
    "    <td>010</td>\n",
    "</tr>\n",
    "</table>"
   ]
  },
  {
   "cell_type": "code",
   "execution_count": 1,
   "metadata": {},
   "outputs": [],
   "source": [
    "# exercice a.fjh"
   ]
  },
  {
   "cell_type": "markdown",
   "metadata": {},
   "source": [
    "b) Afficher le taux moyen de bits par caractère de votre code, dans la console."
   ]
  },
  {
   "cell_type": "code",
   "execution_count": null,
   "metadata": {},
   "outputs": [],
   "source": [
    "# exercice b."
   ]
  },
  {
   "cell_type": "markdown",
   "metadata": {},
   "source": [
    " c) Que pouvez-vous en déduire par rapport à l’entropie du point (I.c), en une phrase ?"
   ]
  },
  {
   "cell_type": "markdown",
   "metadata": {},
   "source": [
    "**TODO**"
   ]
  },
  {
   "cell_type": "markdown",
   "metadata": {},
   "source": [
    "d) Compresser le fichier texte d’input dans un nouveau fichier binaire en utilisant votre code. Si\n",
    "votre message codé n’est pas un multiple de 8, rajouter des 0 à la fin. Le fichier\n",
    "compressé doit avoir une taille sur disque significativement plus petite que celui de\n",
    "base"
   ]
  },
  {
   "cell_type": "code",
   "execution_count": null,
   "metadata": {},
   "outputs": [],
   "source": []
  }
 ],
 "metadata": {
  "kernelspec": {
   "display_name": "Python 3 (ipykernel)",
   "language": "python",
   "name": "python3"
  },
  "language_info": {
   "codemirror_mode": {
    "name": "ipython",
    "version": 3
   },
   "file_extension": ".py",
   "mimetype": "text/x-python",
   "name": "python",
   "nbconvert_exporter": "python",
   "pygments_lexer": "ipython3",
   "version": "3.8.10"
  }
 },
 "nbformat": 4,
 "nbformat_minor": 4
}
