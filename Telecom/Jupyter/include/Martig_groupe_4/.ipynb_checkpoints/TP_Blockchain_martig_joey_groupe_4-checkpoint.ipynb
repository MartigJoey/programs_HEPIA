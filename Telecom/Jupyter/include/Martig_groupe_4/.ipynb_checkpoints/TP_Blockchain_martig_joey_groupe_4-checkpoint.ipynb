{
 "cells": [
  {
   "cell_type": "markdown",
   "id": "d7cdcb70",
   "metadata": {},
   "source": [
    "<h1>Bases des télécommunications 1</h1>\n",
    "\n",
    "**__Introduction__**\n",
    "\n",
    "Le but de ce laboratoire est de mettre en pratique les concepts vus en classe de Bases\n",
    "des télécommunications. Les concepts suivants seront appliqués dans ce laboratoire :\n",
    "fonction de hachage et blockchain\n",
    "\n",
    "- Le rendu du **jupyter notebook** doit se faire sur __cyberlearn__ avec comme nom \"prenom_nom_groupe\" \n",
    "- Des rendus intermédiaires pour chaque partie seront demandés.\n",
    "- **Les réponses aux questions du labo doivent être affichées directement sur le notebook.**\n",
    "\n",
    "**__Rappels__**\n",
    "- ‘0x’ indique que la suite est écrite de manière hexadécimale.\n",
    "- Un fichier **binaire** est un fichier qui n'est pas un fichier texte. **Par exemple des fichiers audios, vidéos, images, tableurs, programmes compilés…**\n",
    "- Le charactère ‘0’ n’est pas égale au bit ‘0’.\n",
    "- 0x00 = 00000000 en bits.\n",
    "\n",
    "<span style=\"color:red\">**ATTENTION**</span> **Créer différent block de code afin de structurer le TP. N'hésiter pas à aussi utiliser les blocks markdown afin d'expliquer certaine partie de votre code.** <span style=\"color:blue\">**La lisibilité ainsi que la modularité de votre code aura UN IMPACT MAJEUR SUR LA NOTE.**</span>\n",
    "## I. Fonction de hachage\n",
    "\n",
    "La manière la plus rependue pour vérifier l’intégrité des données reçues est d’envoyer le hash de ces données\n",
    "par un autre canal, pour vérifier qu’aucun changement n’a été apporté durant la transmission.\n",
    "\n",
    "\n",
    "Le but d’une fonction de hachage est de créer une empreinte (un hash) à partir d’une donnée, sans qu’il soit\n",
    "possible de retrouver cette donnée à partir de l’empreinte.\n",
    "\n",
    "<h3 style=\"margin-left:30px\">IA. Générer un hash à partire d'un fichier </h3>\n",
    "\n",
    "A l'aide de la librairie <span style=\"color:blue\"> hashlib </span> et de sa fonction de hashage **SHA1** , implémenter la fonction <i>**generate_hash()**</i>"
   ]
  },
  {
   "cell_type": "code",
   "execution_count": 5,
   "id": "71b79d7c",
   "metadata": {},
   "outputs": [],
   "source": [
    "import hashlib \n",
    "\n",
    "def read_file_binary(file):  \n",
    "    return open(file, \"rb\").read()\n",
    "\n",
    "def generate_hash(to_hash, hash_type=1): #ajouter VOS paramètres\n",
    "    if hash_type == 1:\n",
    "        return hashlib.sha1(to_hash).hexdigest()\n",
    "    else:\n",
    "        return hashlib.sha256(to_hash).hexdigest()\n",
    "\n",
    "def generate_hash_from_file(file_path, hash_type=1): #ajouter VOS paramètres\n",
    "    to_hash = open(file_path, 'rb').read()\n",
    "    return generate_hash(to_hash, hash_type)"
   ]
  },
  {
   "cell_type": "markdown",
   "id": "bc580ca9",
   "metadata": {},
   "source": [
    "Afficher le résultat de la fonction de hashage"
   ]
  },
  {
   "cell_type": "code",
   "execution_count": 6,
   "id": "959e0281",
   "metadata": {
    "scrolled": true
   },
   "outputs": [
    {
     "name": "stdout",
     "output_type": "stream",
     "text": [
      "e3f6b2ab4b9b38d5f72ab8cbf49ea35e4d580908\n"
     ]
    }
   ],
   "source": [
    "print(generate_hash_from_file(\"file.txt\"))"
   ]
  },
  {
   "cell_type": "markdown",
   "id": "580b793c",
   "metadata": {},
   "source": [
    "<h3 style=\"margin-left:30px\">IB. Compression d'un fichier</h3>\n",
    "\n",
    "La compression d'un fichier binaires/programmes se fera à l'aide de la librairie <span style=\"color:blue\"> gzip</span>. implémenter la fonction <i>compress_one_file()</i>\n",
    "\n",
    "**Attention** le nom du fichier d'entré et de sortie doivent être donnés en paramètres"
   ]
  },
  {
   "cell_type": "code",
   "execution_count": 7,
   "id": "3a2c660c",
   "metadata": {},
   "outputs": [],
   "source": [
    "import gzip\n",
    "\n",
    "def compress_one_file(file_d, compress_level = 5): #ajouter VOS paramètres\n",
    "    return gzip.compress(file_d, compress_level)"
   ]
  },
  {
   "cell_type": "markdown",
   "id": "aa00ce61",
   "metadata": {},
   "source": [
    "Générer une archive à partir d'un fichier. le nom de l'archive doit être **ex_1B.gz**"
   ]
  },
  {
   "cell_type": "code",
   "execution_count": 8,
   "id": "56e7b9cd",
   "metadata": {},
   "outputs": [],
   "source": [
    "def create_compressed_file(input_data, output_path):\n",
    "    compressed_file = open(output_path, \"wb\")\n",
    "    compressed_file.write(compress_one_file(input_data))\n",
    "    compressed_file.close()\n",
    "\n",
    "create_compressed_file(read_file_binary(\"file.txt\"), \"ex_1B.gz\")"
   ]
  },
  {
   "cell_type": "markdown",
   "id": "9c968b00",
   "metadata": {},
   "source": [
    "<h3 style=\"margin-left:30px\">IC. Décompression d'un fichier</h3>\n",
    "\n",
    "décompresser l'archive à l'aide de la fonction <i>**unzip_gz()**</i>\n"
   ]
  },
  {
   "cell_type": "code",
   "execution_count": 9,
   "id": "14b3d605",
   "metadata": {},
   "outputs": [],
   "source": [
    "import gzip\n",
    "\n",
    "def unzip_gz(file_path):#ajouter VOS paramètres\n",
    "    compressed_data = open(file_path, \"rb\").read()\n",
    "    return gzip.decompress(compressed_data)\n",
    "\n",
    "#decomp_file = open(\"ex_1B.txt\", \"wb\")\n",
    "#decomp_file.write(unzip_gz(\"ex_1B.gz\"))\n",
    "#decomp_file.close()\n",
    "\n",
    "#print(unzip_gz(\"ex_1B.gz\"))"
   ]
  },
  {
   "cell_type": "markdown",
   "id": "f8b31765",
   "metadata": {},
   "source": [
    "<h3 style=\"margin-left:30px\">ID. Vérification</h3>\n",
    "\n",
    "\n",
    "1. générer le hash d'un fichier\n",
    "2. compresser le fichier. le nom de l'archive doit être **ex_1D.gz**\n",
    "3. décompresser l'archive\n",
    "4. générer le hash du fichier décompressé\n",
    "5. à l'aide de la fonction **assert** vérifier que les hashs sont identique"
   ]
  },
  {
   "cell_type": "code",
   "execution_count": 10,
   "id": "75119bbd",
   "metadata": {},
   "outputs": [],
   "source": [
    "hash1 = generate_hash_from_file(\"file.txt\")\n",
    "create_compressed_file(read_file_binary(\"file.txt\"), \"ex_1D.gz\")\n",
    "\n",
    "decomp_data = unzip_gz(\"ex_1D.gz\")\n",
    "hash2 = generate_hash(decomp_data)\n",
    "\n",
    "assert(hash1==hash2)"
   ]
  },
  {
   "cell_type": "markdown",
   "id": "898c15c2",
   "metadata": {},
   "source": [
    "## II. Blockchain\n",
    "\n",
    "Le principe de blockchain est directement lié à l’utilisation de fonction de hachage. il faut donc réaliser une fonction principal nommée <i>**gen_blockchain()**</i> qui va nous permettre de générer une blockchain simplifiée.\n",
    "\n",
    "![img2](./imgII.PNG)\n",
    "\n",
    "a) Votre blockchain sera constituée de fichiers de tout type en tant que blocks. Ces fichiers auront comme entête leur numéro de block sur 8 bits ainsi que le hash du block précédent en SHA-256, sur 256 bits.\n",
    "\n",
    "b) la fonction <i>gen_blockchain()</i> doit pouvoir suivre le pseudo code : \n",
    " - tant que infini\n",
    "-         1. récupérer le chemin d'accès du fichier\n",
    "-         2. vérifier si l'utilisateur veux quitter le programme  **(l'utilisateur doit entré la lettre q)**\n",
    "-         3. vérifier si le dossier blockchain est créé\n",
    "-         4. charger le dernier block créer en mémoire\n",
    "-         5. récupérer le fichier grâce au chemin d'accès\n",
    "-         6. ajouter l'entête du point a)\n",
    "-         7. enregistrer le fichier édité dans le dossier blockchain sous le nom blckX (**X=numéro de block**)\n",
    "\n",
    "<span style=\"color:red\">**ATTENTION**</span> le premier block à les bits du hash initialisé à 0.\n"
   ]
  },
  {
   "cell_type": "code",
   "execution_count": null,
   "id": "37c75779",
   "metadata": {},
   "outputs": [],
   "source": []
  },
  {
   "cell_type": "code",
   "execution_count": 43,
   "id": "1935134d",
   "metadata": {},
   "outputs": [],
   "source": [
    "import os.path\n",
    "\n",
    "def generate_hash_b(to_hash):\n",
    "    return hashlib.sha256(to_hash).digest()\n",
    "\n",
    "def gen_blockchain():\n",
    "    \"\"\"\n",
    "    tant que infini\n",
    "        1. récupérer le chemin d'accès du fichier\n",
    "        2. vérifier si l'utilisateur veux quitter le programme (l'utilisateur doit entré la lettre q)\n",
    "        3. vérifier si le dossier blockchain est créé\n",
    "        4. charger le dernier block créer en mémoire\n",
    "        5. récupérer le fichier grâce aux chemin d'accès\n",
    "        6. ajouter l'entête décrite dans la cellule précédentes \n",
    "        7. enregistrer le fichier édité dans le dossier blockchain sous le nom blckX, X=numéro de block\n",
    "    \"\"\"\n",
    "    numblock = 0\n",
    "    folder_name = \"blockchain\"\n",
    "    while(True):\n",
    "        #1. récupérer le chemin d'accès du fichier\n",
    "        last_block_name = \"blck\" + str(numblock-1)\n",
    "        \n",
    "        if numblock != 0:\n",
    "            last_block_path = os.path.join(folder_name, last_block_name)\n",
    "        \n",
    "        #2. vérifier si l'utilisateur veux quitter le programme (l'utilisateur doit entré la lettre q)\n",
    "        if 'q' == input(\"Quitter le programme ? (q):\"):\n",
    "            break\n",
    "        \n",
    "        #3. vérifier si le dossier blockchain est créé\n",
    "        if not os.path.exists(folder_name):\n",
    "            current_dir = os.getcwd()\n",
    "            blockchain_path = os.path.join(current_dir, folder_name)\n",
    "            os.mkdir(blockchain_path)\n",
    "        \n",
    "        #4. charger le dernier block créer en mémoire            \n",
    "        #5. récupérer le fichier grâce aux chemin d'accès\n",
    "        file_path = input(\"Chemin d'accès du fichier:\")\n",
    "        content = \"\"\n",
    "        if file_path != \"\":\n",
    "            content = open(file_path, 'rb').read()\n",
    "        \n",
    "        #6. ajouter l'entête décrite dans la cellule précédentes \n",
    "        if numblock != 0:\n",
    "            block_hash = generate_hash_b(last_block_path)\n",
    "        else:\n",
    "            block_hash = bytes(0).zfill(256)\n",
    "            \n",
    "        numblock_b = format(numblock, \"08b\")\n",
    "        \n",
    "        print(f\"{type(numblock_b)} {type(block_hash)} {type(content)}\")\n",
    "        header = numblock_b + block_hash + content\n",
    "        \n",
    "        #7. enregistrer le fichier édité dans le dossier blockchain sous le nom blckX, X=numéro de block\n",
    "        block_name = \"blck\" + str(numblock)\n",
    "        block_path = os.path.join(folder_name, block_name)\n",
    "        \n",
    "        block = open(block_path, 'wb')\n",
    "        block.write(header.encode())\n",
    "        block.close()\n",
    "        \n",
    "        numblock += 1\n",
    "    return"
   ]
  },
  {
   "cell_type": "markdown",
   "id": "6e754129",
   "metadata": {},
   "source": [
    "<h3 style=\"margin-left:30px\">Vérification de la fonction gen_blockchain</h3>\n"
   ]
  },
  {
   "cell_type": "code",
   "execution_count": 44,
   "id": "89f5cccf",
   "metadata": {},
   "outputs": [
    {
     "name": "stdout",
     "output_type": "stream",
     "text": [
      "Quitter le programme ? (q):\n",
      "Chemin d'accès du fichier:\n",
      "<class 'str'> <class 'bytes'> <class 'str'>\n"
     ]
    },
    {
     "ename": "TypeError",
     "evalue": "can only concatenate str (not \"bytes\") to str",
     "output_type": "error",
     "traceback": [
      "\u001b[0;31m---------------------------------------------------------------------------\u001b[0m",
      "\u001b[0;31mTypeError\u001b[0m                                 Traceback (most recent call last)",
      "Input \u001b[0;32mIn [44]\u001b[0m, in \u001b[0;36m<cell line: 1>\u001b[0;34m()\u001b[0m\n\u001b[0;32m----> 1\u001b[0m \u001b[43mgen_blockchain\u001b[49m\u001b[43m(\u001b[49m\u001b[43m)\u001b[49m\n",
      "Input \u001b[0;32mIn [43]\u001b[0m, in \u001b[0;36mgen_blockchain\u001b[0;34m()\u001b[0m\n\u001b[1;32m     48\u001b[0m     block_hash \u001b[38;5;241m=\u001b[39m \u001b[38;5;28mbytes\u001b[39m(\u001b[38;5;241m0\u001b[39m)\u001b[38;5;241m.\u001b[39mzfill(\u001b[38;5;241m256\u001b[39m)\n\u001b[1;32m     50\u001b[0m \u001b[38;5;28mprint\u001b[39m(\u001b[38;5;124mf\u001b[39m\u001b[38;5;124m\"\u001b[39m\u001b[38;5;132;01m{\u001b[39;00m\u001b[38;5;28mtype\u001b[39m(numblock_b)\u001b[38;5;132;01m}\u001b[39;00m\u001b[38;5;124m \u001b[39m\u001b[38;5;132;01m{\u001b[39;00m\u001b[38;5;28mtype\u001b[39m(block_hash)\u001b[38;5;132;01m}\u001b[39;00m\u001b[38;5;124m \u001b[39m\u001b[38;5;132;01m{\u001b[39;00m\u001b[38;5;28mtype\u001b[39m(content)\u001b[38;5;132;01m}\u001b[39;00m\u001b[38;5;124m\"\u001b[39m)\n\u001b[0;32m---> 51\u001b[0m header \u001b[38;5;241m=\u001b[39m \u001b[43mnumblock_b\u001b[49m\u001b[43m \u001b[49m\u001b[38;5;241;43m+\u001b[39;49m\u001b[43m \u001b[49m\u001b[43mblock_hash\u001b[49m \u001b[38;5;241m+\u001b[39m content\n\u001b[1;32m     53\u001b[0m \u001b[38;5;66;03m#7. enregistrer le fichier édité dans le dossier blockchain sous le nom blckX, X=numéro de block\u001b[39;00m\n\u001b[1;32m     54\u001b[0m block_name \u001b[38;5;241m=\u001b[39m \u001b[38;5;124m\"\u001b[39m\u001b[38;5;124mblck\u001b[39m\u001b[38;5;124m\"\u001b[39m \u001b[38;5;241m+\u001b[39m \u001b[38;5;28mstr\u001b[39m(numblock)\n",
      "\u001b[0;31mTypeError\u001b[0m: can only concatenate str (not \"bytes\") to str"
     ]
    }
   ],
   "source": [
    "gen_blockchain()"
   ]
  },
  {
   "cell_type": "markdown",
   "id": "d57c2be4",
   "metadata": {},
   "source": [
    "## III. Proof Of Work\n",
    "\n",
    "Votre blockchain actuelle peut facilement être réécrite, pour éviter la génération trop\n",
    "rapide de block il va falloir rajouter un système de validation.\n",
    "\n",
    "Comme pour le Bitcoin une preuve de travail (Proof Of Work) sera mise en place, le hash d’un nouveau\n",
    "block devra impérativement contenir un nombre définit de bits 0 au début.\n",
    "\n",
    "Dans notre cas nous allons chercher à avoir nos 13 premiers bits à 0 au début.\n",
    "\n",
    "Exemples : 0x0002 477B … 0x0001 FFE7 … 0x0007 42AE …\n",
    "\n",
    "-  Ajouter un « Nonce » à la fin de votre fichier, ce Nonce sera un nombre que vous allez incrémenter jusqu’à ce que le hash de tout le block commence par le bon nombre de bits à 0. (Pas besoins de s’occuper de la problématique de différencier des données du Nonce)\n",
    "- Ce nombre de bits à 0 doit pouvoir être changer dans une constante. (13 par défaut)\n",
    "- Afficher le temps d’exécution de votre programme pour l’ajout d’un block.\n",
    "\n",
    "<span style=\"color:red\">**ATTENTION**</span> stocker les nouveaux blocks dans un nouveau dossier nommé <span style=\"color:blue\">**blockchainPOW**</span>\n",
    "\n",
    "![img3](./imgIII.PNG)"
   ]
  },
  {
   "cell_type": "code",
   "execution_count": 199,
   "id": "c0364f9e",
   "metadata": {},
   "outputs": [],
   "source": [
    "import time\n",
    "\n",
    "def gen_blockchain_pow():\n",
    "    \"\"\"\n",
    "    tant que infini\n",
    "        1. récupérer le chemin d'accès du fichier\n",
    "        2. vérifier si l'utilisateur veux quitter le programme (l'utilisateur doit entré la lettre q)\n",
    "        3. vérifier si le dossier blockchainPOW est créé\n",
    "        4. charger le dernier block créer en mémoire\n",
    "        5. récupérer le fichier grâce aux chemin d'accès\n",
    "        6. ajouter l'entête décrite dans la Partie II\n",
    "        7. trouver un Nonce qui permet de respecter le Proof of work\n",
    "        8. enregistrer le fichier édité dans le dossier blockchain sous le nom blckX, X=numéro de block\n",
    "    \"\"\"\n",
    "    numblock = 0\n",
    "    folder_name = \"blockchainPOW\"\n",
    "    NB_BITS_ZERO = 13\n",
    "    while(True):\n",
    "        #1. récupérer le chemin d'accès du fichier\n",
    "        last_block_name = \"blck\" + str(numblock-1)\n",
    "        \n",
    "        if numblock != 0:\n",
    "            last_block_path = os.path.join(folder_name, last_block_name)\n",
    "        \n",
    "        #2. vérifier si l'utilisateur veux quitter le programme (l'utilisateur doit entré la lettre q)\n",
    "        if 'q' == input(\"Quitter le programme ? (q):\"):\n",
    "            break\n",
    "        \n",
    "        #3. vérifier si le dossier blockchain est créé\n",
    "        if not os.path.exists(folder_name):\n",
    "            current_dir = os.getcwd()\n",
    "            blockchain_path = os.path.join(current_dir, folder_name)\n",
    "            os.mkdir(blockchain_path)\n",
    "    \n",
    "        \n",
    "        #4. charger le dernier block créer en mémoire            \n",
    "        #5. récupérer le fichier grâce aux chemin d'accès\n",
    "        #6. ajouter l'entête décrite dans la Partie II\n",
    "        numblock_b = format(numblock, \"08b\")\n",
    "        if numblock != 0:\n",
    "            block_hash = generate_hash_from_file(last_block_path, 256)\n",
    "        else:\n",
    "            block_hash = str(0).zfill(64)\n",
    "            \n",
    "        header = str(numblock_b) + block_hash\n",
    "        \n",
    "        start_time = time.time()\n",
    "        \n",
    "        #7. trouver un Nonce qui permet de respecter le Proof of work\n",
    "        nonce = 0\n",
    "        #while True:\n",
    "        #    hash_set = set(generate_hash((header + \"\\n\" + str(nonce)).encode(), 256)[0:NB_BITS_ZERO])\n",
    "        #    if len(hash_set) == 1 and hash_set == set({'0'}):\n",
    "        #        break\n",
    "        #    nonce += 1\n",
    "        \n",
    "        #while not generate_hash((header +\"\\n\"+ str(nonce)).encode(), 256).startswith(\"0\" * NB_BITS_ZERO):\n",
    "        #    nonce += 1\n",
    "        \n",
    "        while True:\n",
    "            hashed = generate_hash_b((header +'\\n'+ str(nonce)).encode())\n",
    "            first_bits = int.from_bytes(hashed, byteorder='big') >> 256 - NB_BITS_ZERO\n",
    "            \n",
    "            if first_bits == 0:\n",
    "                break\n",
    "                \n",
    "            nonce += 1\n",
    "        \n",
    "        #while not generate_hash((header +\"\\n\"+ str(nonce)).encode(), 256) >> 250:\n",
    "         #   nonce += 1\n",
    "        \n",
    "        content = header +'\\n'+ str(nonce)\n",
    "        \n",
    "        #7. enregistrer le fichier édité dans le dossier blockchain sous le nom blckX, X=numéro de block\n",
    "        block_name = \"blck\" + str(numblock)\n",
    "        block_path = os.path.join(folder_name, block_name)\n",
    "        \n",
    "        block = open(block_path, 'wb')\n",
    "        block.write(content.encode())\n",
    "        block.close()\n",
    "        \n",
    "        \n",
    "        print(\"--- %s seconds ---\" % (time.time() - start_time))\n",
    "        numblock += 1\n",
    "    return"
   ]
  },
  {
   "cell_type": "code",
   "execution_count": 200,
   "id": "d0dd283c",
   "metadata": {},
   "outputs": [
    {
     "name": "stdout",
     "output_type": "stream",
     "text": [
      "Quitter le programme ? (q):\n",
      "--- 0.019664525985717773 seconds ---\n",
      "Quitter le programme ? (q):\n",
      "--- 0.009763240814208984 seconds ---\n",
      "Quitter le programme ? (q):\n",
      "--- 0.03265023231506348 seconds ---\n",
      "Quitter le programme ? (q):\n",
      "--- 0.0009567737579345703 seconds ---\n",
      "Quitter le programme ? (q):\n",
      "--- 0.03057718276977539 seconds ---\n",
      "Quitter le programme ? (q):\n",
      "--- 0.048781394958496094 seconds ---\n",
      "Quitter le programme ? (q):\n",
      "--- 0.036292076110839844 seconds ---\n",
      "Quitter le programme ? (q):\n",
      "--- 0.07968688011169434 seconds ---\n",
      "Quitter le programme ? (q):\n",
      "--- 0.017678022384643555 seconds ---\n",
      "Quitter le programme ? (q):q\n"
     ]
    }
   ],
   "source": [
    "gen_blockchain_pow()"
   ]
  },
  {
   "cell_type": "code",
   "execution_count": null,
   "id": "185c0633",
   "metadata": {},
   "outputs": [],
   "source": []
  },
  {
   "cell_type": "code",
   "execution_count": null,
   "id": "524fa7be",
   "metadata": {},
   "outputs": [],
   "source": []
  }
 ],
 "metadata": {
  "kernelspec": {
   "display_name": "Python 3 (ipykernel)",
   "language": "python",
   "name": "python3"
  },
  "language_info": {
   "codemirror_mode": {
    "name": "ipython",
    "version": 3
   },
   "file_extension": ".py",
   "mimetype": "text/x-python",
   "name": "python",
   "nbconvert_exporter": "python",
   "pygments_lexer": "ipython3",
   "version": "3.9.7"
  }
 },
 "nbformat": 4,
 "nbformat_minor": 5
}
