{
 "cells": [
  {
   "cell_type": "markdown",
   "metadata": {},
   "source": [
    "<h1>Bases des télécommunications 1</h1>\n",
    "\n",
    "**__Introduction__**\n",
    "\n",
    "Le but de ce laboratoire est de mettre en place un système de chiffrement/déchiffrement trivial.\n",
    "\n",
    "- Le rendu du **jupyter notebook** doit se faire sur __cyberlearn__ avec comme nom \"prenom_nom_groupe\" \n",
    "- Votre programme devra être capable de chiffrer/déchiffrer n’importe quel fichier au format texte, et ce quelque soit l’encodage de ce dernier. Le fichier déchiffré doit être strictement identique au fichier texte pré-chiffrement, forme et fond.\n",
    "- Les réponses aux questions du labo doivent être affichées directement dans la console du programme de chiffrement.\n",
    "\n",
    "\n",
    "**astuce**: si vous avez des fonctions que vous avez créé qui peuvent être utilisées. réutilisez les.\n",
    "\n",
    "**__Présentation du sujet__**\n",
    "\n",
    "Chiffrer un fichier quel qu’il soit nécessite trois éléments: \n",
    "\n",
    "1. un fichier à chiffrer\n",
    "2. une clé de chiffrement\n",
    "3. un algorithme de chiffrement\n",
    "\n",
    "Le fichier à chiffrer sera donné à l'aide de l'instruction **input()**. Un exemple est fourni sur la page de rendu cyberlearn de votre groupe, et sera l’un des fichiers utilisés pour noter votre code.\n",
    "\n",
    "La clé de chiffrement devra être générée **conformément aux instructions du point 2** du présent\n",
    "document.\n",
    "\n",
    "L’algorithme de chiffrement à implémenter ici est volontairement trivial, mais extrêmement sécurisé. Il est représenté par l’équation suivante : \n",
    "\n",
    "<center style=\"font-size:30px;margin-top:10px\"><b>𝑐(𝑖) = 𝑡(𝑖) ⊕ 𝑘(𝑖)</b></center>\n",
    "\n",
    "Soit :\n",
    "- **𝑡(𝑖)**: l’élément à la position **i** du texte clair\n",
    "- **𝑘(𝑖)**: l’élément à la position **i** de la clé\n",
    "- **𝑐(𝑖)**: l’élément à la position **i** du texte chiffré\n",
    "- **⊕**: l’opération mathématique XOR bit-à-bit.\n",
    "<h2>I. Questions théoriques</h2>\n",
    "\n",
    "a) Quel est la taille minimale que devra avoir votre clé, en omettant tout padding, lecture circulaire ou tout autre système permettant d’artificiellement réduire la taille de votre clé ? Sachant que la seule information connue est la taille du fichier à chiffrer. \n",
    "\n",
    "La clé doit faire la même taille que le texte à chiffrer."
   ]
  },
  {
   "cell_type": "markdown",
   "metadata": {},
   "source": [
    "**TODO**"
   ]
  },
  {
   "cell_type": "markdown",
   "metadata": {},
   "source": [
    "b) Effectuer les calculs suivants : \n",
    "\n",
    "- a: 17 ⊕ 05\n",
    "- b: 17 ⊕ 20\n",
    "- c: 05 ⊕ 20\n"
   ]
  },
  {
   "cell_type": "code",
   "execution_count": 1,
   "metadata": {},
   "outputs": [
    {
     "name": "stdout",
     "output_type": "stream",
     "text": [
      "réponse :\n",
      "\ta:20\n",
      "\tb:5\n",
      "\tc:17\n"
     ]
    }
   ],
   "source": [
    "#Afficher le résultat de chaque opération de la cellule précédente\n",
    "a= 17 ^ 5\n",
    "b= 17 ^ 20\n",
    "c= 5 ^ 20\n",
    "print(\"réponse :\\n\\ta:{}\\n\\tb:{}\\n\\tc:{}\".format(a,b,c))"
   ]
  },
  {
   "cell_type": "markdown",
   "metadata": {},
   "source": [
    "c) Quelle règle mathématique concernant l’opération ⊕ pouvez-vous déduire de la\n",
    "question précédente ? \n",
    "\n",
    "On peut toujours retourner aux valeur de base (17, 5) en appliquant la même opérations sur l'une des valeurs de bases ainsi que le résultat (5 et 20 = 17, 17 et 20 = 5)."
   ]
  },
  {
   "cell_type": "markdown",
   "metadata": {},
   "source": [
    "**TODO**"
   ]
  },
  {
   "cell_type": "markdown",
   "metadata": {},
   "source": [
    "<h2>II. Générer la clé</h2>\n",
    "\n",
    "1) Commencez par implémenter une fonction lecture d’un fichier donné à l'aide de la foncton **input()**. Faites bien attention [(au mode de lecture)](https://docs.python.org/3/library/functions.html#open) . Trouver un moyen d’en calculer la taille."
   ]
  },
  {
   "cell_type": "code",
   "execution_count": 2,
   "metadata": {},
   "outputs": [],
   "source": [
    "# fonction de lecture d'un fichier\n",
    "\n",
    "def read_file_byte(file):  \n",
    "    return open(file, \"rb\")"
   ]
  },
  {
   "cell_type": "code",
   "execution_count": 3,
   "metadata": {},
   "outputs": [
    {
     "name": "stdout",
     "output_type": "stream",
     "text": [
      "TODO: print file Size\n",
      "\n",
      "File size 418 bytes\n"
     ]
    }
   ],
   "source": [
    "#afficher la taille du fichier\n",
    "print(\"TODO: print file Size\\n\")\n",
    "\n",
    "file_byte = read_file_byte(\"input.txt\").read()\n",
    "file_size = len(file_byte)\n",
    "\n",
    "print(\"File size {} bytes\".format(file_size))"
   ]
  },
  {
   "cell_type": "markdown",
   "metadata": {},
   "source": [
    "2) Générer une clé de même taille en utilisant la librairie [rand](https://docs.python.org/3/library/random.html). Faites bien attention à la fonction **seed** et à ses implications. Même si le faire sans fonctionne aussi, votre programme doit définir explicitement une seed de votre choix. \n"
   ]
  },
  {
   "cell_type": "code",
   "execution_count": 4,
   "metadata": {},
   "outputs": [],
   "source": [
    "# fonction de génération de clef\n",
    "import random\n",
    "\n",
    "def generate_key(seed, file_size):\n",
    "    random.seed(seed)\n",
    "    key_int = random.getrandbits(file_size*8)\n",
    "    key_bytes = (key_int).to_bytes(file_size, byteorder='big')\n",
    "    return key_bytes\n",
    "\n"
   ]
  },
  {
   "cell_type": "code",
   "execution_count": 5,
   "metadata": {},
   "outputs": [
    {
     "name": "stdout",
     "output_type": "stream",
     "text": [
      "Ma clef : b'\\x08\\x92Gp\\xd3'\n"
     ]
    }
   ],
   "source": [
    "print(\"Ma clef : {}\".format(generate_key(10, 5)))"
   ]
  },
  {
   "cell_type": "markdown",
   "metadata": {},
   "source": [
    "3) Écrivez la sortie de cette fonction dans un fichier au format **binaire (.bin)** appelé **key.bin**. \n"
   ]
  },
  {
   "cell_type": "code",
   "execution_count": 6,
   "metadata": {},
   "outputs": [],
   "source": [
    "#fonction de sauvegarde de la clef\n",
    "def save_key(key):\n",
    "    key_bin = open(\"key.bin\", \"wb\")\n",
    "    key_bin.write(key)\n",
    "    key_bin.close()\n",
    "\n",
    "key = generate_key(10, file_size)\n",
    "save_key(key)"
   ]
  },
  {
   "cell_type": "markdown",
   "metadata": {},
   "source": [
    "<h2>III. Chiffrement</h2>\n",
    "\n",
    "1) Maintenant que votre clé est générée, écrivez une fonction implémentant le chiffrement tel que décrit dans la présentation du sujet, à la page précédente. \n"
   ]
  },
  {
   "cell_type": "code",
   "execution_count": 7,
   "metadata": {},
   "outputs": [],
   "source": [
    "#fonction de chiffrement\n",
    "def file_encrypt(file, key, size):\n",
    "    encrypted_file = bytearray(size)\n",
    "    for byte_i in range(0, size):\n",
    "        encrypted_file[byte_i] = file[byte_i] ^ key[byte_i]\n",
    "\n",
    "    return encrypted_file"
   ]
  },
  {
   "cell_type": "markdown",
   "metadata": {},
   "source": [
    "2) Écrivez la sortie de cette fonction dans un fichier au format binaire (.bin) appelé\n",
    "**crypted.bin**."
   ]
  },
  {
   "cell_type": "code",
   "execution_count": 8,
   "metadata": {},
   "outputs": [],
   "source": [
    "#Sauvegarder le fichier chiffré\n",
    "\n",
    "def save_encrypted_file(file):\n",
    "    file_bin = open(\"crypted.bin\", \"wb\")\n",
    "    file_bin.write(file)\n",
    "    file_bin.close()\n",
    "    \n",
    "\n",
    "encrypted_file = file_encrypt(file_byte, key, file_size)\n",
    "save_encrypted_file(encrypted_file)"
   ]
  },
  {
   "cell_type": "markdown",
   "metadata": {},
   "source": [
    "À ce stade, vous avez terminé votre système de chiffrement. L’étape 1, 2 et 3 de ce laboratoire \n",
    "\n",
    "![WellDone](https://c.tenor.com/vOKwPz3lifIAAAAC/bien-jou%C3%A9.gif \"Noice :)\")\n",
    "\n",
    "<h2>IV. Déchiffrement</h2>\n",
    "\n",
    "1) Aidez-vous de la réponse à la question I.b et I.c pour déterminer l’algorithme de déchiffrement correspondant et implémentez-le.\n",
    "\n",
    "**astuce**: utilisé la fonction ***assert()***"
   ]
  },
  {
   "cell_type": "code",
   "execution_count": 9,
   "metadata": {},
   "outputs": [],
   "source": [
    "#fonction de déchiffrement\n",
    "def file_Decrypt(encrypted_file, key, size):\n",
    "    return file_encrypt(encrypted_file, key, size)"
   ]
  },
  {
   "cell_type": "code",
   "execution_count": 10,
   "metadata": {},
   "outputs": [],
   "source": [
    "#la fonction assert permet de générer une erreur dans le cas ou la condition est fausse\n",
    "#assert([1,2,3,4]==[1,2,3,4]) # la condition return true donc pas d'erreur\n",
    "#assert([3,2,3,4]==[1,2,3,4]) # la condition return false donc une erreur est générée\n",
    "\n",
    "assert(file_byte == file_Decrypt(encrypted_file, key, file_size))"
   ]
  },
  {
   "cell_type": "markdown",
   "metadata": {},
   "source": [
    "À ce stade, vous avez terminé votre système de déchiffrement\n",
    "\n",
    "![WellDone](https://c.tenor.com/H6sjheSkU1wAAAAC/noice-nice.gif \"Bien joué  ¯\\\\_(ツ)_/¯\")"
   ]
  },
  {
   "cell_type": "markdown",
   "metadata": {},
   "source": [
    "<h2>V. Bonus</h2>"
   ]
  },
  {
   "cell_type": "markdown",
   "metadata": {},
   "source": [
    "**Questions**\n",
    "1)  L’informaticien Guethenoc estime que transmettre le fichier key.bin est trop fastidieux. Quelle information plus courte pourrait-il transmettre à son ami Roparzh pour qu’il puisse quand même générer la même clé de son côté ?"
   ]
  },
  {
   "cell_type": "markdown",
   "metadata": {},
   "source": [
    "**TODO**"
   ]
  },
  {
   "cell_type": "markdown",
   "metadata": {},
   "source": [
    "2) En supposant une clé générée de manière parfaitement aléatoire, puis plus jamais réutilisée pour chiffrer, votre système est-il aujourd’hui sécurisé ? Aidez-vous d’internet et citez vos sources dans les commentaires de votre code (pas besoin de preuve mathématique, expliquez avec vos mots). "
   ]
  },
  {
   "cell_type": "markdown",
   "metadata": {},
   "source": [
    "**TODO**"
   ]
  },
  {
   "cell_type": "markdown",
   "metadata": {},
   "source": [
    "3) Quel faiblesse fondamentale la librairie rand apporte-elle à votre programme, (indice : réponse fortement liée aux questions précédentes). Donnez deux exemples de phénomène pouvant être utiliser pour générer un aléatoire parfait. "
   ]
  },
  {
   "cell_type": "markdown",
   "metadata": {},
   "source": [
    "**TODO**"
   ]
  },
  {
   "cell_type": "markdown",
   "metadata": {},
   "source": [
    "![c'est la fin](https://data.topquizz.com/distant/quizz/big/2/5/6/0/140652_8ecac3bd68.jpg)"
   ]
  },
  {
   "cell_type": "code",
   "execution_count": 6,
   "metadata": {},
   "outputs": [
    {
     "name": "stdout",
     "output_type": "stream",
     "text": [
      "La seed ainsi que la taille du message.\n",
      "\n"
     ]
    }
   ],
   "source": [
    "print(\"La seed ainsi que la taille du message.\\n\")"
   ]
  },
  {
   "cell_type": "code",
   "execution_count": 7,
   "metadata": {},
   "outputs": [
    {
     "name": "stdout",
     "output_type": "stream",
     "text": [
      "Si l'on imagine que la clé est restée privée durant ce temps et donc que personne ne la connaisse, oui. Il faut tout de même toujours prendre en compte sa taille qui pourrait être trop courte d'après les standards d'ajourd'hui ou par rapport à ce qu'il faut encoder.\n",
      "\n"
     ]
    }
   ],
   "source": [
    "print(\"Si l'on imagine que la clé est restée privée durant ce temps et donc que personne ne la connaisse, oui. Il faut tout de même toujours prendre en compte sa taille qui pourrait être trop courte d'après les standards d'ajourd'hui ou par rapport à ce qu'il faut encoder.\\n\")\n"
   ]
  },
  {
   "cell_type": "code",
   "execution_count": 8,
   "metadata": {},
   "outputs": [
    {
     "name": "stdout",
     "output_type": "stream",
     "text": [
      "Il ne s'agit pas d'un aléatoire parfait. Il utilise l'horloge du système pour générer les valeurs aléatoire. Il est donc possible de retrouver ses valeurs en sachant à quel moment elle a été crée.\n",
      "Utiliser la chaleur pour générer les valeurs aléatoires, comme l'a fait Intel.\n",
      "Il serait aussi possible, d'utiliser le bruit quantique qui est totalement aléatoire pour générer des nombres.\n"
     ]
    }
   ],
   "source": [
    "print(\"Il ne s'agit pas d'un aléatoire parfait. Il utilise l'horloge du système pour générer les valeurs aléatoire. Il est donc possible de retrouver ses valeurs en sachant à quel moment elle a été crée.\\nUtiliser la chaleur pour générer les valeurs aléatoires, comme l'a fait Intel.\\nIl serait aussi possible, d'utiliser le bruit quantique qui est totalement aléatoire pour générer des nombres.\")\n",
    "#https://www.apprendre-en-ligne.net/bloginfo/index.php/2012/04/19/616-un-parfait-generateur-de-nombres-aleatoires-grace-au-vide-quantique\n",
    "#https://spectrum.ieee.org/behind-intels-new-randomnumber-generator"
   ]
  },
  {
   "cell_type": "code",
   "execution_count": null,
   "metadata": {},
   "outputs": [],
   "source": []
  }
 ],
 "metadata": {
  "kernelspec": {
   "display_name": "Python 3 (ipykernel)",
   "language": "python",
   "name": "python3"
  },
  "language_info": {
   "codemirror_mode": {
    "name": "ipython",
    "version": 3
   },
   "file_extension": ".py",
   "mimetype": "text/x-python",
   "name": "python",
   "nbconvert_exporter": "python",
   "pygments_lexer": "ipython3",
   "version": "3.8.10"
  }
 },
 "nbformat": 4,
 "nbformat_minor": 4
}
