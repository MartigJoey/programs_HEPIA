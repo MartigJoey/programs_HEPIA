{
 "cells": [
  {
   "cell_type": "markdown",
   "id": "926aa41d",
   "metadata": {},
   "source": [
    "<h1>Bases des télécommunications 1</h1>\n",
    "\n",
    "**__Introduction__**\n",
    "\n",
    "Le but de ce laboratoire est de mettre en pratique les concepts vus en classe de Bases des\n",
    "Télécommunications. On travaillera ainsi sur la détection d'erreur sur un fichier texte.\n",
    "\n",
    "- Le rendu du **jupyter notebook** doit se faire sur __cyberlearn__ avec comme nom \"prenom_nom_groupe\" \n",
    "- Le fichier texte utilisé ici doit être encodé en UTF-8 (sans BOM), vous pouvez le vérifier avec Notepad++ par exemple.\n",
    "- Exemple de code python 3 pour ouvrir en lecture un fichier texte en UTF-8 : __*open(INPUT, \"r\", encoding=\"UTF-8\")*__\n",
    "<h2>I.Contrôle d'erreur (CRC)</h2>\n",
    "\n",
    "a) Réaliser ci-dessous une **fonction** qui génère le bit de parité d'un charactère\n",
    "\n",
    "<table style=\" margin-left: auto;margin-right: auto;\">\n",
    "    <tr>\n",
    "        <td>2<sup>7</sup></td>\n",
    "        <td>2<sup>6</sup></td>\n",
    "        <td>2<sup>5</sup></td>\n",
    "        <td>2<sup>4</sup></td>\n",
    "        <td>2<sup>3</sup></td>\n",
    "        <td>2<sup>2</sup></td>\n",
    "        <td>2<sup>1</sup></td>\n",
    "        <td>2<sup>0</sup></td>\n",
    "    </tr>\n",
    "    <tr>\n",
    "        <td>1</td>\n",
    "        <td>0</td>\n",
    "        <td>0</td>\n",
    "        <td>0</td>\n",
    "        <td>1</td>\n",
    "        <td>1</td>\n",
    "        <td>0</td>\n",
    "        <td>1</td>\n",
    "    </tr>        \n",
    "    <tr>\n",
    "        <td colspan=\"8\" style=\" text-align: right;\">↑ <br/> bit de parité</td>\n",
    "    </tr>        \n",
    "</table>"
   ]
  },
  {
   "cell_type": "markdown",
   "id": "5bd44c1c",
   "metadata": {},
   "source": [
    "Voici des exemples qui vont permettre de comprendre comment fonctionne la création du bit de parité. **CONSEIL: Un charactère ascii est codé sur combien de bit?**\n",
    "<table style=\" margin-left: auto;margin-right: auto;\">\n",
    "    <tr>\n",
    "    <td colspan=\"8\" style=\"text-align:center\" >charactère '*'</td>\n",
    "    </tr>\n",
    "    <tr>\n",
    "        <td>2<sup>7</sup></td>\n",
    "        <td>2<sup>6</sup></td>\n",
    "        <td>2<sup>5</sup></td>\n",
    "        <td>2<sup>4</sup></td>\n",
    "        <td>2<sup>3</sup></td>\n",
    "        <td>2<sup>2</sup></td>\n",
    "        <td>2<sup>1</sup></td>\n",
    "        <td>2<sup>0</sup></td>\n",
    "    </tr>\n",
    "    <tr>\n",
    "        <td>0</td>\n",
    "        <td>1</td>\n",
    "        <td>0</td>\n",
    "        <td>1</td>\n",
    "        <td>0</td>\n",
    "        <td>1</td>\n",
    "        <td>0</td>\n",
    "        <td>1</td>\n",
    "    </tr>        \n",
    "    <tr>\n",
    "        <td colspan=\"8\" style=\" text-align: right;\">↑ <br/> bit de parité</td>\n",
    "    </tr>        \n",
    "</table>\n",
    "\n",
    "</br>\n",
    "<table style=\" margin-left: auto;margin-right: auto;\">\n",
    "    <tr>\n",
    "    <td colspan=\"8\" style=\"text-align:center\" >charactère '('</td>\n",
    "    </tr>\n",
    "    <tr>\n",
    "        <td>2<sup>7</sup></td>\n",
    "        <td>2<sup>6</sup></td>\n",
    "        <td>2<sup>5</sup></td>\n",
    "        <td>2<sup>4</sup></td>\n",
    "        <td>2<sup>3</sup></td>\n",
    "        <td>2<sup>2</sup></td>\n",
    "        <td>2<sup>1</sup></td>\n",
    "        <td>2<sup>0</sup></td>\n",
    "    </tr>\n",
    "    <tr>\n",
    "        <td>0</td>\n",
    "        <td>1</td>\n",
    "        <td>0</td>\n",
    "        <td>1</td>\n",
    "        <td>0</td>\n",
    "        <td>0</td>\n",
    "        <td>0</td>\n",
    "        <td>0</td>\n",
    "    </tr>        \n",
    "    <tr>\n",
    "        <td colspan=\"8\" style=\" text-align: right;\">↑ <br/> bit de parité</td>\n",
    "    </tr>        \n",
    "</table>"
   ]
  },
  {
   "cell_type": "code",
   "execution_count": 12,
   "id": "bbad89ba",
   "metadata": {},
   "outputs": [],
   "source": [
    "#la variable char est de type int\n",
    "def generate_parity_bit(char):\n",
    "  parity_bit = 0\n",
    "  bits = format(char, 'b')\n",
    "  bits = bits[:-1]\n",
    "  for bit in bits:\n",
    "    parity_bit = parity_bit ^ int(bit)\n",
    "  return parity_bit"
   ]
  },
  {
   "cell_type": "markdown",
   "id": "d4035f70",
   "metadata": {},
   "source": [
    "b) Réaliser ci-dessous un programme qui Affiche le nombre total d'erreur dans le fichier text (**input_with_error.bin**) à l'aide du bit de parité."
   ]
  },
  {
   "cell_type": "code",
   "execution_count": 13,
   "id": "84baf50e",
   "metadata": {},
   "outputs": [
    {
     "name": "stdout",
     "output_type": "stream",
     "text": [
      "Nombre d'erreurs:  42123\n"
     ]
    }
   ],
   "source": [
    "error_count = 0\n",
    "file_with_error = open(\"input_with_error.bin\", \"rb\")\n",
    "for line in file_with_error:\n",
    "    for character in line:\n",
    "      bits = format(character, 'b')\n",
    "      file_parity_bit = int(bits[len(bits)-1:])\n",
    "      if file_parity_bit != generate_parity_bit(character):\n",
    "        error_count += 1\n",
    "\n",
    "print(\"Nombre d'erreurs: \", error_count)"
   ]
  },
  {
   "cell_type": "markdown",
   "id": "4893e6e6",
   "metadata": {},
   "source": [
    "c) Réaliser ci-dessous une fonction permettant:\n",
    " \n",
    " 1. de calculer le bit de parité du charactère\n",
    " 2. d'altérer le charactère _**dans toutes les positions possibles selon la table ASCII**_ (Conseil: utilisé la fonction **[randrange()](https://docs.python.org/3/library/random.html#random.randrange)** \n",
    " 3. ajouter le bit de parité au charctère altéré."
   ]
  },
  {
   "cell_type": "code",
   "execution_count": 14,
   "id": "8fd1e3f6",
   "metadata": {},
   "outputs": [],
   "source": [
    "def edit_char(char):\n",
    "  new_char = rndm.randrange(128)\n",
    "  new_char = format(new_char, 'b')\n",
    "  new_char += str(get_parity_bit(char))\n",
    "  return new_char"
   ]
  },
  {
   "cell_type": "markdown",
   "id": "2dc4534d",
   "metadata": {},
   "source": [
    "d) Réaliser ci-dessous un programme permettant d'ajouter le bit de parité selon le système d'état suivant au fichier **\"input.txt\"** selon le schéma suivant et sauvegarder le résultat **\"output.bin\"**:\n",
    "<img src=\"scheme_crc.jpg\"/>\n",
    "\n",
    "\n",
    "La **seed** utilisé pour créer le fichier **input_with_error.bin** est le numéro **43**."
   ]
  },
  {
   "cell_type": "code",
   "execution_count": 15,
   "id": "c4ecb4ce",
   "metadata": {},
   "outputs": [],
   "source": [
    "import random as rndm\n",
    "\n",
    "file_input = open(\"input.txt\", \"rb\")\n",
    "file_output = open(\"output.bin\", \"wb\")\n",
    "\n",
    "def get_parity_bit(char):\n",
    "  parity_bit = 0\n",
    "  bits = format(char, 'b')\n",
    "  for bit in bits:\n",
    "    parity_bit ^= int(bit)\n",
    "  return parity_bit\n",
    "\n",
    "def add_parity_bit(char):\n",
    "  parity_bit = get_parity_bit(char)\n",
    "  char = format(char, 'b')\n",
    "  char += str(parity_bit)\n",
    "  return int(char, 2)\n",
    "\n",
    "CreateError = False\n",
    "output_data = bytearray(file_input.read())\n",
    "index = 0\n",
    "rndm.seed(43)\n",
    "for character in output_data:\n",
    "    if CreateError:\n",
    "      character = int(edit_char(character), 2)\n",
    "    else:\n",
    "      character = add_parity_bit(character)\n",
    "    output_data[index] = character\n",
    "    index += 1\n",
    "    if rndm.random() > 1 - 10E-6:\n",
    "      CreateError = not CreateError\n",
    "\n",
    "file_output.write(output_data)\n",
    "\n",
    "file_with_error.close()\n",
    "file_input.close()\n",
    "file_output.close()"
   ]
  },
  {
   "cell_type": "markdown",
   "id": "d0316c9b",
   "metadata": {},
   "source": [
    "**ATTENTION**,lorsque vous utilisez le random avec la seed, pensez à reéxecuter LE CODE DE LA SEED car sinon vous aurez des valeurs différentes que le fichier encodé par nos soins. \n",
    "\n",
    "<h2> II. Bonus </h2>\n",
    "vérifier de deux manières différentes que votre fichier générer est identique que le fichier **input_with_error.txt**\n",
    "a) vérification 1"
   ]
  },
  {
   "cell_type": "code",
   "execution_count": null,
   "id": "c705f39a",
   "metadata": {},
   "outputs": [],
   "source": [
    "# Comparaison des caractères\n",
    "\n",
    "file_origin = open(\"input_with_error.bin\", \"rb\")\n",
    "file_new = open(\"output.bin\", \"rb\")\n",
    "are_equal = True\n",
    "\n",
    "while True:\n",
    "    char_og = file_origin.read()\n",
    "    char_n = file_new.read()\n",
    "    if char_og != char_n:\n",
    "        are_equal = False\n",
    "    if char_og == '':\n",
    "        break\n",
    "        \n",
    "    \n",
    "print(f\"les fichiers sont :\")\n",
    "if are_equals:\n",
    "    print(\"identiques\")\n",
    "else:\n",
    "    print(\"différents\")"
   ]
  },
  {
   "cell_type": "markdown",
   "id": "b0e79c61",
   "metadata": {},
   "source": [
    "b)vérification 2"
   ]
  },
  {
   "cell_type": "code",
   "execution_count": null,
   "id": "b7c7790f",
   "metadata": {},
   "outputs": [],
   "source": [
    "# Comparaison du bit de parité\n",
    "\n",
    "are_equal = true\n",
    "\n",
    "\n",
    "while True:\n",
    "    char_og = file_origin.read()\n",
    "    char_n = file_new.read()\n",
    "    if get_parity_bit(char_og) != get_parity_bit(char_n):\n",
    "        are_equal = False\n",
    "    if char_og == '':\n",
    "        break\n",
    "\n",
    "print(f\"les fichiers sont :\")\n",
    "if are_equals:\n",
    "    print(\"identiques\")\n",
    "else:\n",
    "    print(\"différents\")\n",
    "\n",
    "file_origin.close()\n",
    "file_new.close()"
   ]
  },
  {
   "cell_type": "markdown",
   "id": "18fafde0",
   "metadata": {},
   "source": [
    "c) actuellement le code génère plus d'erreurs, comment peut-on diminuer ces erreurs "
   ]
  },
  {
   "cell_type": "code",
   "execution_count": null,
   "id": "9f3dbbd0",
   "metadata": {},
   "outputs": [],
   "source": [
    "En modifiant la valeur de \"1 - 10E-6\""
   ]
  }
 ],
 "metadata": {
  "kernelspec": {
   "display_name": "Python 3 (ipykernel)",
   "language": "python",
   "name": "python3"
  },
  "language_info": {
   "codemirror_mode": {
    "name": "ipython",
    "version": 3
   },
   "file_extension": ".py",
   "mimetype": "text/x-python",
   "name": "python",
   "nbconvert_exporter": "python",
   "pygments_lexer": "ipython3",
   "version": "3.8.10"
  }
 },
 "nbformat": 4,
 "nbformat_minor": 5
}
